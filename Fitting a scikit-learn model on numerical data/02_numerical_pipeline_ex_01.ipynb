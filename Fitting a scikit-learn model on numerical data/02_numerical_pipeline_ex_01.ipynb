{
 "cells": [
  {
   "cell_type": "markdown",
   "id": "39fc9c47",
   "metadata": {},
   "source": [
    "# 📝 Exercise M1.03\n",
    "\n",
    "The goal of this exercise is to compare the performance of our classifier in\n",
    "the previous notebook (roughly 81% accuracy with `LogisticRegression`) to\n",
    "some simple baseline classifiers. The simplest baseline classifier is one\n",
    "that always predicts the same class, irrespective of the input data.\n",
    "\n",
    "- What would be the score of a model that always predicts `' >50K'`?\n",
    "- What would be the score of a model that always predicts `' <=50K'`?\n",
    "- Is 81% or 82% accuracy a good score for this problem?\n",
    "\n",
    "Use a `DummyClassifier` and do a train-test split to evaluate\n",
    "its accuracy on the test set. This\n",
    "[link](https://scikit-learn.org/stable/modules/model_evaluation.html#dummy-estimators)\n",
    "shows a few examples of how to evaluate the generalization performance of these\n",
    "baseline models."
   ]
  },
  {
   "cell_type": "code",
   "execution_count": 1,
   "id": "879b2a30",
   "metadata": {},
   "outputs": [],
   "source": [
    "import pandas as pd\n",
    "\n",
    "adult_census = pd.read_csv(\"../datasets/adult-census.csv\")"
   ]
  },
  {
   "cell_type": "markdown",
   "id": "53df3eeb",
   "metadata": {},
   "source": [
    "We will first split our dataset to have the target separated from the data\n",
    "used to train our predictive model."
   ]
  },
  {
   "cell_type": "code",
   "execution_count": 2,
   "id": "1e7454f7",
   "metadata": {},
   "outputs": [],
   "source": [
    "target_name = \"class\"\n",
    "target = adult_census[target_name]\n",
    "data = adult_census.drop(columns=target_name)"
   ]
  },
  {
   "cell_type": "markdown",
   "id": "2a63b8d9",
   "metadata": {},
   "source": [
    "We start by selecting only the numerical columns as seen in the previous\n",
    "notebook."
   ]
  },
  {
   "cell_type": "code",
   "execution_count": 3,
   "id": "5303d064",
   "metadata": {},
   "outputs": [],
   "source": [
    "numerical_columns = [\n",
    "    \"age\", \"capital-gain\", \"capital-loss\", \"hours-per-week\"]\n",
    "\n",
    "data_numeric = data[numerical_columns]"
   ]
  },
  {
   "cell_type": "markdown",
   "id": "fc74377e",
   "metadata": {},
   "source": [
    "Split the data and target into a train and test set."
   ]
  },
  {
   "cell_type": "code",
   "execution_count": 4,
   "id": "8ea238e2",
   "metadata": {},
   "outputs": [],
   "source": [
    "from sklearn.model_selection import train_test_split\n",
    "\n",
    "# Write your code here.\n",
    "data_train, data_test, target_train, target_test = train_test_split(data_numeric, target, random_state=42, test_size=0.25)"
   ]
  },
  {
   "cell_type": "code",
   "execution_count": 5,
   "id": "7f445f57",
   "metadata": {},
   "outputs": [
    {
     "name": "stdout",
     "output_type": "stream",
     "text": [
      "Number of samples in testing: 12211 => 25.0% of the original set\n"
     ]
    }
   ],
   "source": [
    "print(f\"Number of samples in testing: {data_test.shape[0]} => \"\n",
    "      f\"{data_test.shape[0] / data_numeric.shape[0] * 100:.1f}% of the\"\n",
    "      f\" original set\")"
   ]
  },
  {
   "cell_type": "code",
   "execution_count": 6,
   "id": "8ba541bb",
   "metadata": {},
   "outputs": [
    {
     "name": "stdout",
     "output_type": "stream",
     "text": [
      "Number of samples in training: 36631 => 75.0% of the original set\n"
     ]
    }
   ],
   "source": [
    "print(f\"Number of samples in training: {data_train.shape[0]} => \"\n",
    "      f\"{data_train.shape[0] / data_numeric.shape[0] * 100:.1f}% of the\"\n",
    "      f\" original set\")"
   ]
  },
  {
   "cell_type": "markdown",
   "id": "2a68658e",
   "metadata": {},
   "source": [
    "Use a `DummyClassifier` such that the resulting classifier will always\n",
    "predict the class `' >50K'`. What is the accuracy score on the test set?\n",
    "Repeat the experiment by always predicting the class `' <=50K'`.\n",
    "\n",
    "Hint: you can set the `strategy` parameter of the `DummyClassifier` to\n",
    "achieve the desired behavior."
   ]
  },
  {
   "cell_type": "code",
   "execution_count": 15,
   "id": "291fa695",
   "metadata": {},
   "outputs": [],
   "source": [
    "from sklearn import set_config\n",
    "set_config(display='diagram')"
   ]
  },
  {
   "cell_type": "code",
   "execution_count": 20,
   "id": "822f5e24",
   "metadata": {},
   "outputs": [],
   "source": [
    "from sklearn.dummy import DummyClassifier\n",
    "\n",
    "# Write your code here.\n",
    "baseline_model = DummyClassifier(strategy = 'constant', constant = ' >50K', random_state=0)"
   ]
  },
  {
   "cell_type": "code",
   "execution_count": 21,
   "id": "c3dd9c65",
   "metadata": {},
   "outputs": [
    {
     "data": {
      "text/html": [
       "<style>#sk-c668a4a7-73c0-4608-8238-6fba292e5bff {color: black;background-color: white;}#sk-c668a4a7-73c0-4608-8238-6fba292e5bff pre{padding: 0;}#sk-c668a4a7-73c0-4608-8238-6fba292e5bff div.sk-toggleable {background-color: white;}#sk-c668a4a7-73c0-4608-8238-6fba292e5bff label.sk-toggleable__label {cursor: pointer;display: block;width: 100%;margin-bottom: 0;padding: 0.3em;box-sizing: border-box;text-align: center;}#sk-c668a4a7-73c0-4608-8238-6fba292e5bff label.sk-toggleable__label-arrow:before {content: \"▸\";float: left;margin-right: 0.25em;color: #696969;}#sk-c668a4a7-73c0-4608-8238-6fba292e5bff label.sk-toggleable__label-arrow:hover:before {color: black;}#sk-c668a4a7-73c0-4608-8238-6fba292e5bff div.sk-estimator:hover label.sk-toggleable__label-arrow:before {color: black;}#sk-c668a4a7-73c0-4608-8238-6fba292e5bff div.sk-toggleable__content {max-height: 0;max-width: 0;overflow: hidden;text-align: left;background-color: #f0f8ff;}#sk-c668a4a7-73c0-4608-8238-6fba292e5bff div.sk-toggleable__content pre {margin: 0.2em;color: black;border-radius: 0.25em;background-color: #f0f8ff;}#sk-c668a4a7-73c0-4608-8238-6fba292e5bff input.sk-toggleable__control:checked~div.sk-toggleable__content {max-height: 200px;max-width: 100%;overflow: auto;}#sk-c668a4a7-73c0-4608-8238-6fba292e5bff input.sk-toggleable__control:checked~label.sk-toggleable__label-arrow:before {content: \"▾\";}#sk-c668a4a7-73c0-4608-8238-6fba292e5bff div.sk-estimator input.sk-toggleable__control:checked~label.sk-toggleable__label {background-color: #d4ebff;}#sk-c668a4a7-73c0-4608-8238-6fba292e5bff div.sk-label input.sk-toggleable__control:checked~label.sk-toggleable__label {background-color: #d4ebff;}#sk-c668a4a7-73c0-4608-8238-6fba292e5bff input.sk-hidden--visually {border: 0;clip: rect(1px 1px 1px 1px);clip: rect(1px, 1px, 1px, 1px);height: 1px;margin: -1px;overflow: hidden;padding: 0;position: absolute;width: 1px;}#sk-c668a4a7-73c0-4608-8238-6fba292e5bff div.sk-estimator {font-family: monospace;background-color: #f0f8ff;border: 1px dotted black;border-radius: 0.25em;box-sizing: border-box;margin-bottom: 0.5em;}#sk-c668a4a7-73c0-4608-8238-6fba292e5bff div.sk-estimator:hover {background-color: #d4ebff;}#sk-c668a4a7-73c0-4608-8238-6fba292e5bff div.sk-parallel-item::after {content: \"\";width: 100%;border-bottom: 1px solid gray;flex-grow: 1;}#sk-c668a4a7-73c0-4608-8238-6fba292e5bff div.sk-label:hover label.sk-toggleable__label {background-color: #d4ebff;}#sk-c668a4a7-73c0-4608-8238-6fba292e5bff div.sk-serial::before {content: \"\";position: absolute;border-left: 1px solid gray;box-sizing: border-box;top: 2em;bottom: 0;left: 50%;}#sk-c668a4a7-73c0-4608-8238-6fba292e5bff div.sk-serial {display: flex;flex-direction: column;align-items: center;background-color: white;padding-right: 0.2em;padding-left: 0.2em;}#sk-c668a4a7-73c0-4608-8238-6fba292e5bff div.sk-item {z-index: 1;}#sk-c668a4a7-73c0-4608-8238-6fba292e5bff div.sk-parallel {display: flex;align-items: stretch;justify-content: center;background-color: white;}#sk-c668a4a7-73c0-4608-8238-6fba292e5bff div.sk-parallel::before {content: \"\";position: absolute;border-left: 1px solid gray;box-sizing: border-box;top: 2em;bottom: 0;left: 50%;}#sk-c668a4a7-73c0-4608-8238-6fba292e5bff div.sk-parallel-item {display: flex;flex-direction: column;position: relative;background-color: white;}#sk-c668a4a7-73c0-4608-8238-6fba292e5bff div.sk-parallel-item:first-child::after {align-self: flex-end;width: 50%;}#sk-c668a4a7-73c0-4608-8238-6fba292e5bff div.sk-parallel-item:last-child::after {align-self: flex-start;width: 50%;}#sk-c668a4a7-73c0-4608-8238-6fba292e5bff div.sk-parallel-item:only-child::after {width: 0;}#sk-c668a4a7-73c0-4608-8238-6fba292e5bff div.sk-dashed-wrapped {border: 1px dashed gray;margin: 0 0.4em 0.5em 0.4em;box-sizing: border-box;padding-bottom: 0.4em;background-color: white;position: relative;}#sk-c668a4a7-73c0-4608-8238-6fba292e5bff div.sk-label label {font-family: monospace;font-weight: bold;background-color: white;display: inline-block;line-height: 1.2em;}#sk-c668a4a7-73c0-4608-8238-6fba292e5bff div.sk-label-container {position: relative;z-index: 2;text-align: center;}#sk-c668a4a7-73c0-4608-8238-6fba292e5bff div.sk-container {/* jupyter's `normalize.less` sets `[hidden] { display: none; }` but bootstrap.min.css set `[hidden] { display: none !important; }` so we also need the `!important` here to be able to override the default hidden behavior on the sphinx rendered scikit-learn.org. See: https://github.com/scikit-learn/scikit-learn/issues/21755 */display: inline-block !important;position: relative;}#sk-c668a4a7-73c0-4608-8238-6fba292e5bff div.sk-text-repr-fallback {display: none;}</style><div id=\"sk-c668a4a7-73c0-4608-8238-6fba292e5bff\" class=\"sk-top-container\"><div class=\"sk-text-repr-fallback\"><pre>DummyClassifier(constant=&#x27; &gt;50K&#x27;, random_state=0, strategy=&#x27;constant&#x27;)</pre><b>Please rerun this cell to show the HTML repr or trust the notebook.</b></div><div class=\"sk-container\" hidden><div class=\"sk-item\"><div class=\"sk-estimator sk-toggleable\"><input class=\"sk-toggleable__control sk-hidden--visually\" id=\"f88b0552-9f8a-4963-b604-b1ae9078f103\" type=\"checkbox\" checked><label for=\"f88b0552-9f8a-4963-b604-b1ae9078f103\" class=\"sk-toggleable__label sk-toggleable__label-arrow\">DummyClassifier</label><div class=\"sk-toggleable__content\"><pre>DummyClassifier(constant=&#x27; &gt;50K&#x27;, random_state=0, strategy=&#x27;constant&#x27;)</pre></div></div></div></div></div>"
      ],
      "text/plain": [
       "DummyClassifier(constant=' >50K', random_state=0, strategy='constant')"
      ]
     },
     "execution_count": 21,
     "metadata": {},
     "output_type": "execute_result"
    }
   ],
   "source": [
    "baseline_model.fit(data_train, target_train)"
   ]
  },
  {
   "cell_type": "code",
   "execution_count": 24,
   "id": "82063583",
   "metadata": {},
   "outputs": [
    {
     "name": "stdout",
     "output_type": "stream",
     "text": [
      "Accuracy of Dummy Classifier for >50K: 0.234\n"
     ]
    }
   ],
   "source": [
    "accuracy = baseline_model.score(data_test, target_test)\n",
    "print(f\"Accuracy of Dummy Classifier for >50K: {accuracy:.3f}\")"
   ]
  },
  {
   "cell_type": "code",
   "execution_count": 25,
   "id": "b50621f0",
   "metadata": {},
   "outputs": [
    {
     "name": "stdout",
     "output_type": "stream",
     "text": [
      "Accuracy of Dummy Classifier for <=50K: 0.766\n"
     ]
    }
   ],
   "source": [
    "baseline_model_2 = DummyClassifier(strategy = 'constant', constant = ' <=50K', random_state=0)\n",
    "baseline_model_2.fit(data_train, target_train)\n",
    "accuracy = baseline_model_2.score(data_test, target_test)\n",
    "print(f\"Accuracy of Dummy Classifier for <=50K: {accuracy:.3f}\")"
   ]
  },
  {
   "cell_type": "markdown",
   "id": "3ac9cce3",
   "metadata": {},
   "source": [
    "We observe that this model has an accuracy higher than 0.5. This is due to the fact that we have 3/4 of the target belonging to low-revenue class.\n",
    "\n",
    "Therefore, any predictive model giving results below this dummy classifier will not be helpful."
   ]
  },
  {
   "cell_type": "code",
   "execution_count": 26,
   "id": "b4ae03c4",
   "metadata": {},
   "outputs": [
    {
     "data": {
      "text/plain": [
       " <=50K    37155\n",
       " >50K     11687\n",
       "Name: class, dtype: int64"
      ]
     },
     "execution_count": 26,
     "metadata": {},
     "output_type": "execute_result"
    }
   ],
   "source": [
    "adult_census[\"class\"].value_counts()"
   ]
  },
  {
   "cell_type": "code",
   "execution_count": 27,
   "id": "0456aa31",
   "metadata": {},
   "outputs": [
    {
     "data": {
      "text/plain": [
       "0.7607182343065395"
      ]
     },
     "execution_count": 27,
     "metadata": {},
     "output_type": "execute_result"
    }
   ],
   "source": [
    "(target == \" <=50K\").mean()"
   ]
  },
  {
   "cell_type": "markdown",
   "id": "3cf279af",
   "metadata": {},
   "source": [
    "So the LogisticRegression accuracy (roughly 81%) seems better than the DummyClassifier accuracy (roughly 76%). In a way it is a bit reassuring, using a machine learning model gives you a better performance than always predicting the majority class, i.e. the low income class \" <=50K\"."
   ]
  }
 ],
 "metadata": {
  "jupytext": {
   "main_language": "python"
  },
  "kernelspec": {
   "display_name": "Python 3 (ipykernel)",
   "language": "python",
   "name": "python3"
  },
  "language_info": {
   "codemirror_mode": {
    "name": "ipython",
    "version": 3
   },
   "file_extension": ".py",
   "mimetype": "text/x-python",
   "name": "python",
   "nbconvert_exporter": "python",
   "pygments_lexer": "ipython3",
   "version": "3.9.10"
  },
  "nbreset": "https://raw.githubusercontent.com/INRIA/scikit-learn-mooc/main/notebooks/02_numerical_pipeline_ex_01.ipynb"
 },
 "nbformat": 4,
 "nbformat_minor": 5
}
