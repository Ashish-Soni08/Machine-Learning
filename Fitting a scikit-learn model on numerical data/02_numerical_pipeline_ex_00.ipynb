{
 "cells": [
  {
   "cell_type": "markdown",
   "id": "43fe00f9",
   "metadata": {},
   "source": [
    "# 📝 Exercise M1.02\n",
    "\n",
    "The goal of this exercise is to fit a similar model as in the previous\n",
    "notebook to get familiar with manipulating scikit-learn objects and in\n",
    "particular the `.fit/.predict/.score` API."
   ]
  },
  {
   "cell_type": "markdown",
   "id": "8ba13200",
   "metadata": {},
   "source": [
    "Let's load the adult census dataset with only numerical variables"
   ]
  },
  {
   "cell_type": "code",
   "execution_count": 1,
   "id": "bfa6464b",
   "metadata": {},
   "outputs": [],
   "source": [
    "import pandas as pd\n",
    "adult_census = pd.read_csv(\"../datasets/adult-census-numeric.csv\")\n",
    "data = adult_census.drop(columns=\"class\")\n",
    "target = adult_census[\"class\"]"
   ]
  },
  {
   "cell_type": "markdown",
   "id": "3be05729",
   "metadata": {},
   "source": [
    "In the previous notebook we used `model = KNeighborsClassifier()`. All\n",
    "scikit-learn models can be created without arguments. This is convenient\n",
    "because it means that you don't need to understand the full details of a\n",
    "model before starting to use it.\n",
    "\n",
    "One of the `KNeighborsClassifier` parameters is `n_neighbors`. It controls\n",
    "the number of neighbors we are going to use to make a prediction for a new\n",
    "data point.\n",
    "\n",
    "What is the default value of the `n_neighbors` parameter? Hint: Look at the\n",
    "documentation on the [scikit-learn\n",
    "website](https://scikit-learn.org/stable/modules/generated/sklearn.neighbors.KNeighborsClassifier.html)\n",
    "or directly access the description inside your notebook by running the\n",
    "following cell. This will open a pager pointing to the documentation."
   ]
  },
  {
   "cell_type": "code",
   "execution_count": 3,
   "id": "2010f14a",
   "metadata": {},
   "outputs": [],
   "source": [
    "from sklearn.neighbors import KNeighborsClassifier\n",
    "\n",
    "KNeighborsClassifier?"
   ]
  },
  {
   "cell_type": "markdown",
   "id": "7fb8244b",
   "metadata": {},
   "source": [
    "Create a `KNeighborsClassifier` model with `n_neighbors=50`"
   ]
  },
  {
   "cell_type": "code",
   "execution_count": 4,
   "id": "3f99b0a4",
   "metadata": {},
   "outputs": [],
   "source": [
    "# Write your code here.\n",
    "model = KNeighborsClassifier(n_neighbors=50)"
   ]
  },
  {
   "cell_type": "markdown",
   "id": "9de396eb",
   "metadata": {},
   "source": [
    "Fit this model on the data and target loaded above"
   ]
  },
  {
   "cell_type": "code",
   "execution_count": 5,
   "id": "ae3bc0dc",
   "metadata": {},
   "outputs": [
    {
     "data": {
      "text/plain": [
       "KNeighborsClassifier(n_neighbors=50)"
      ]
     },
     "execution_count": 5,
     "metadata": {},
     "output_type": "execute_result"
    }
   ],
   "source": [
    "# Write your code here.\n",
    "model.fit(data, target)"
   ]
  },
  {
   "cell_type": "markdown",
   "id": "d85cb855",
   "metadata": {},
   "source": [
    "Use your model to make predictions on the first 10 data points inside the\n",
    "data. Do they match the actual target values?"
   ]
  },
  {
   "cell_type": "code",
   "execution_count": 15,
   "id": "3f7b792b",
   "metadata": {},
   "outputs": [],
   "source": [
    "# Write your code here.\n",
    "target_predicted = model.predict(data)"
   ]
  },
  {
   "cell_type": "code",
   "execution_count": 16,
   "id": "6a67e9c7",
   "metadata": {},
   "outputs": [
    {
     "data": {
      "text/plain": [
       "array([' <=50K', ' <=50K', ' <=50K', ' <=50K', ' <=50K', ' <=50K',\n",
       "       ' <=50K', ' >50K', ' <=50K', ' <=50K'], dtype=object)"
      ]
     },
     "execution_count": 16,
     "metadata": {},
     "output_type": "execute_result"
    }
   ],
   "source": [
    "target_predicted[:10]"
   ]
  },
  {
   "cell_type": "markdown",
   "id": "23d02e83",
   "metadata": {},
   "source": [
    "Compute the accuracy on the training data."
   ]
  },
  {
   "cell_type": "code",
   "execution_count": 17,
   "id": "374e0b72",
   "metadata": {},
   "outputs": [
    {
     "name": "stdout",
     "output_type": "stream",
     "text": [
      "\n",
      "Number of correct predictions: 9 / 10\n",
      "Accuracy of the model: 0.9\n",
      "\n"
     ]
    }
   ],
   "source": [
    "# Write your code here.\n",
    "print(f'''\n",
    "Number of correct predictions: {(target[:10] == target_predicted[:10]).sum()} / 10\n",
    "Accuracy of the model: {(target[:10] == target_predicted[:10]).mean()}\n",
    "''')"
   ]
  },
  {
   "cell_type": "markdown",
   "id": "fea31bc8",
   "metadata": {},
   "source": [
    "Now load the test data from `\"../datasets/adult-census-numeric-test.csv\"` and\n",
    "compute the accuracy on the test data."
   ]
  },
  {
   "cell_type": "code",
   "execution_count": 26,
   "id": "46bdfab3",
   "metadata": {},
   "outputs": [],
   "source": [
    "# Write your code here.\n",
    "adult_census_test = pd.read_csv(\"../datasets/adult-census-numeric-test.csv\")"
   ]
  },
  {
   "cell_type": "code",
   "execution_count": 27,
   "id": "3af6356d",
   "metadata": {},
   "outputs": [
    {
     "data": {
      "text/html": [
       "<div>\n",
       "<style scoped>\n",
       "    .dataframe tbody tr th:only-of-type {\n",
       "        vertical-align: middle;\n",
       "    }\n",
       "\n",
       "    .dataframe tbody tr th {\n",
       "        vertical-align: top;\n",
       "    }\n",
       "\n",
       "    .dataframe thead th {\n",
       "        text-align: right;\n",
       "    }\n",
       "</style>\n",
       "<table border=\"1\" class=\"dataframe\">\n",
       "  <thead>\n",
       "    <tr style=\"text-align: right;\">\n",
       "      <th></th>\n",
       "      <th>age</th>\n",
       "      <th>capital-gain</th>\n",
       "      <th>capital-loss</th>\n",
       "      <th>hours-per-week</th>\n",
       "      <th>class</th>\n",
       "    </tr>\n",
       "  </thead>\n",
       "  <tbody>\n",
       "    <tr>\n",
       "      <th>0</th>\n",
       "      <td>20</td>\n",
       "      <td>0</td>\n",
       "      <td>0</td>\n",
       "      <td>35</td>\n",
       "      <td>&lt;=50K</td>\n",
       "    </tr>\n",
       "    <tr>\n",
       "      <th>1</th>\n",
       "      <td>53</td>\n",
       "      <td>0</td>\n",
       "      <td>0</td>\n",
       "      <td>72</td>\n",
       "      <td>&gt;50K</td>\n",
       "    </tr>\n",
       "    <tr>\n",
       "      <th>2</th>\n",
       "      <td>41</td>\n",
       "      <td>0</td>\n",
       "      <td>0</td>\n",
       "      <td>50</td>\n",
       "      <td>&gt;50K</td>\n",
       "    </tr>\n",
       "    <tr>\n",
       "      <th>3</th>\n",
       "      <td>20</td>\n",
       "      <td>0</td>\n",
       "      <td>0</td>\n",
       "      <td>40</td>\n",
       "      <td>&lt;=50K</td>\n",
       "    </tr>\n",
       "    <tr>\n",
       "      <th>4</th>\n",
       "      <td>25</td>\n",
       "      <td>0</td>\n",
       "      <td>0</td>\n",
       "      <td>40</td>\n",
       "      <td>&lt;=50K</td>\n",
       "    </tr>\n",
       "  </tbody>\n",
       "</table>\n",
       "</div>"
      ],
      "text/plain": [
       "   age  capital-gain  capital-loss  hours-per-week   class\n",
       "0   20             0             0              35   <=50K\n",
       "1   53             0             0              72    >50K\n",
       "2   41             0             0              50    >50K\n",
       "3   20             0             0              40   <=50K\n",
       "4   25             0             0              40   <=50K"
      ]
     },
     "execution_count": 27,
     "metadata": {},
     "output_type": "execute_result"
    }
   ],
   "source": [
    "adult_census_test.head()"
   ]
  },
  {
   "cell_type": "code",
   "execution_count": 29,
   "id": "5ac9a207",
   "metadata": {},
   "outputs": [],
   "source": [
    "target_test = adult_census_test['class']\n",
    "data_test = adult_census_test.drop(columns=['class', ])"
   ]
  },
  {
   "cell_type": "code",
   "execution_count": 30,
   "id": "3b67feec",
   "metadata": {},
   "outputs": [
    {
     "name": "stdout",
     "output_type": "stream",
     "text": [
      "The testing dataset contains 9769 samples and 4 features\n"
     ]
    }
   ],
   "source": [
    "print(f\"The testing dataset contains {data_test.shape[0]} samples and \"\n",
    "      f\"{data_test.shape[1]} features\")"
   ]
  },
  {
   "cell_type": "code",
   "execution_count": 31,
   "id": "c3a273a2",
   "metadata": {},
   "outputs": [
    {
     "name": "stdout",
     "output_type": "stream",
     "text": [
      "The test accuracy using a KNeighborsClassifier is 0.818\n"
     ]
    }
   ],
   "source": [
    "accuracy = model.score(data_test, target_test)\n",
    "model_name = model.__class__.__name__\n",
    "\n",
    "print(f\"The test accuracy using a {model_name} is \"\n",
    "      f\"{accuracy:.3f}\")"
   ]
  }
 ],
 "metadata": {
  "jupytext": {
   "main_language": "python"
  },
  "kernelspec": {
   "display_name": "Python 3 (ipykernel)",
   "language": "python",
   "name": "python3"
  },
  "language_info": {
   "codemirror_mode": {
    "name": "ipython",
    "version": 3
   },
   "file_extension": ".py",
   "mimetype": "text/x-python",
   "name": "python",
   "nbconvert_exporter": "python",
   "pygments_lexer": "ipython3",
   "version": "3.9.10"
  },
  "nbreset": "https://raw.githubusercontent.com/INRIA/scikit-learn-mooc/main/notebooks/02_numerical_pipeline_ex_00.ipynb"
 },
 "nbformat": 4,
 "nbformat_minor": 5
}
